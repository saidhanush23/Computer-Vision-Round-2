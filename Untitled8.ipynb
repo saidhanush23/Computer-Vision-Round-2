{
  "nbformat": 4,
  "nbformat_minor": 0,
  "metadata": {
    "colab": {
      "provenance": [],
      "toc_visible": true,
      "authorship_tag": "ABX9TyMQgUYKUw5uRC9K+2QrDvpP",
      "include_colab_link": true
    },
    "kernelspec": {
      "name": "python3",
      "display_name": "Python 3"
    },
    "language_info": {
      "name": "python"
    }
  },
  "cells": [
    {
      "cell_type": "markdown",
      "metadata": {
        "id": "view-in-github",
        "colab_type": "text"
      },
      "source": [
        "<a href=\"https://colab.research.google.com/github/saidhanush23/Computer-Vision-Round-2/blob/main/Untitled8.ipynb\" target=\"_parent\"><img src=\"https://colab.research.google.com/assets/colab-badge.svg\" alt=\"Open In Colab\"/></a>"
      ]
    },
    {
      "cell_type": "code",
      "execution_count": null,
      "metadata": {
        "id": "Eog67ZDJcogQ"
      },
      "outputs": [],
      "source": [
        "import os\n",
        "import cv2\n",
        "import numpy as np\n",
        "import matplotlib.pyplot as plt\n",
        "from sklearn.model_selection import train_test_split\n",
        "from keras.models import Model\n",
        "from keras.layers import Input, Conv2D, MaxPooling2D, UpSampling2D, concatenate\n",
        "from keras.optimizers import Adam\n",
        "\n",
        "def load_and_preprocess_images(data_dir, target_size=(256, 256)):\n",
        "    image_paths = []\n",
        "    mask_paths = []\n",
        "\n",
        "    for patient_folder in os.listdir(data_dir):\n",
        "        patient_dir = os.path.join(data_dir, patient_folder)\n",
        "        if os.path.isdir(patient_dir):\n",
        "            for file in os.listdir(patient_dir):\n",
        "                file_path = os.path.join(patient_dir, file)\n",
        "                if file.endswith('.tif') and 'mask' not in file:\n",
        "                    image_paths.append(file_path)\n",
        "                elif file.endswith('.tif') and 'mask' in file:\n",
        "                    mask_paths.append(file_path)\n",
        "\n",
        "    image_paths.sort()\n",
        "    mask_paths.sort()\n",
        "\n",
        "    preprocessed_images = []\n",
        "    preprocessed_masks = []\n",
        "\n",
        "    for img_path in image_paths:\n",
        "        image = cv2.imread(img_path)\n",
        "        image = cv2.resize(image, target_size)\n",
        "        image = image / 255.0\n",
        "        preprocessed_images.append(image)\n",
        "\n",
        "    for mask_path in mask_paths:\n",
        "        mask = cv2.imread(mask_path, cv2.IMREAD_GRAYSCALE)\n",
        "        mask = cv2.resize(mask, target_size)\n",
        "        mask = mask / 255.0\n",
        "        mask = np.expand_dims(mask, axis=-1)\n",
        "        preprocessed_masks.append(mask)\n",
        "\n",
        "    return np.array(preprocessed_images), np.array(preprocessed_masks)\n",
        "\n",
        "def unet_model(input_shape):\n",
        "    inputs = Input(input_shape)\n",
        "\n",
        "    c1 = Conv2D(32, (3, 3), activation='relu', padding='same')(inputs)\n",
        "    c1 = Conv2D(32, (3, 3), activation='relu', padding='same')(c1)\n",
        "    p1 = MaxPooling2D((2, 2))(c1)\n",
        "\n",
        "    c2 = Conv2D(64, (3, 3), activation='relu', padding='same')(p1)\n",
        "    c2 = Conv2D(64, (3, 3), activation='relu', padding='same')(c2)\n",
        "    p2 = MaxPooling2D((2, 2))(c2)\n",
        "\n",
        "    c3 = Conv2D(128, (3, 3), activation='relu', padding='same')(p2)\n",
        "    c3 = Conv2D(128, (3, 3), activation='relu', padding='same')(c3)\n",
        "    p3 = MaxPooling2D((2, 2))(c3)\n",
        "\n",
        "    c4 = Conv2D(256, (3, 3), activation='relu', padding='same')(p3)\n",
        "    c4 = Conv2D(256, (3, 3), activation='relu', padding='same')(c4)\n",
        "    p4 = MaxPooling2D((2, 2))(c4)\n",
        "\n",
        "    c5 = Conv2D(512, (3, 3), activation='relu', padding='same')(p4)\n",
        "    c5 = Conv2D(512, (3, 3), activation='relu', padding='same')(c5)\n",
        "\n",
        "    u6 = UpSampling2D((2, 2))(c5)\n",
        "    u6 = concatenate([u6, c4])\n",
        "    c6 = Conv2D(256, (3, 3), activation='relu', padding='same')(u6)\n",
        "    c6 = Conv2D(256, (3, 3), activation='relu', padding='same')(c6)\n",
        "\n",
        "    u7 = UpSampling2D((2, 2))(c6)\n",
        "    u7 = concatenate([u7, c3])\n",
        "    c7 = Conv2D(128, (3, 3), activation='relu', padding='same')(u7)\n",
        "    c7 = Conv2D(128, (3, 3), activation='relu', padding='same')(c7)\n",
        "\n",
        "    u8 = UpSampling2D((2, 2))(c7)\n",
        "    u8 = concatenate([u8, c2])\n",
        "    c8 = Conv2D(64, (3, 3), activation='relu', padding='same')(u8)\n",
        "    c8 = Conv2D(64, (3, 3), activation='relu', padding='same')(c8)\n",
        "\n",
        "    u9 = UpSampling2D((2, 2))(c8)\n",
        "    u9 = concatenate([u9, c1])\n",
        "    c9 = Conv2D(32, (3, 3), activation='relu', padding='same')(u9)\n",
        "    c9 = Conv2D(32, (3, 3), activation='relu', padding='same')(c9)\n",
        "\n",
        "    outputs = Conv2D(1, (1, 1), activation='sigmoid')(c9)\n",
        "\n",
        "    model = Model(inputs=[inputs], outputs=[outputs])\n",
        "    model.compile(optimizer=Adam(learning_rate=1e-4), loss='binary_crossentropy', metrics=['accuracy'])\n",
        "\n",
        "    return model\n",
        "\n",
        "def visualize_predictions(model, X_val, y_val, num_images=5):\n",
        "    preds = model.predict(X_val[:num_images])\n",
        "    preds = (preds > 0.5).astype(np.uint8)\n",
        "\n",
        "    plt.figure(figsize=(15, 5))\n",
        "    for i in range(num_images):\n",
        "        plt.subplot(3, num_images, i + 1)\n",
        "        plt.imshow(X_val[i])\n",
        "        plt.axis('off')\n",
        "        plt.title('Input Image')\n",
        "\n",
        "        plt.subplot(3, num_images, i + 1 + num_images)\n",
        "        plt.imshow(y_val[i].squeeze(), cmap='gray')\n",
        "        plt.axis('off')\n",
        "        plt.title('True Mask')\n",
        "\n",
        "        plt.subplot(3, num_images, i + 1 + 2 * num_images)\n",
        "        plt.imshow(preds[i].squeeze(), cmap='gray')\n",
        "        plt.axis('off')\n",
        "        plt.title('Predicted Mask')\n",
        "\n",
        "    plt.show()\n",
        "\n",
        "def main():\n",
        "    data_dir = '/content/Brain_MRI_Dataset/Data'\n",
        "    target_size = (256, 256)\n",
        "\n",
        "    images, masks = load_and_preprocess_images(data_dir, target_size)\n",
        "\n",
        "    X_train, X_val, y_train, y_val = train_test_split(images, masks, test_size=0.2, random_state=42)\n",
        "\n",
        "    input_shape = (target_size[0], target_size[1], 3)\n",
        "    model = unet_model(input_shape)\n",
        "\n",
        "    model.fit(X_train, y_train, validation_data=(X_val, y_val), epochs=50, batch_size=8)\n",
        "\n",
        "    model.save('unet_brain_mri.h5')\n",
        "\n",
        "    visualize_predictions(model, X_val, y_val)\n",
        "\n",
        "if __name__ == '__main__':\n",
        "    main()\n",
        "\n",
        "\n"
      ]
    },
    {
      "cell_type": "code",
      "source": [
        "from keras.callbacks import ModelCheckpoint, EarlyStopping\n",
        "\n",
        "def main():\n",
        "    data_dir = '/content/Brain_MRI_Dataset/Data'\n",
        "    target_size = (256, 256)\n",
        "\n",
        "    images, masks = load_and_preprocess_images(data_dir, target_size)\n",
        "\n",
        "    X_train, X_val, y_train, y_val = train_test_split(images, masks, test_size=0.2, random_state=42)\n",
        "\n",
        "    input_shape = (target_size[0], target_size[1], 3)\n",
        "    model = unet_model(input_shape)\n",
        "\n",
        "    model_checkpoint = ModelCheckpoint('unet_brain_mri_best.keras', save_best_only=True, monitor='val_loss', mode='min')\n",
        "    early_stopping = EarlyStopping(monitor='val_loss', patience=10, restore_best_weights=True)\n",
        "\n",
        "    model.fit(X_train, y_train, validation_data=(X_val, y_val), epochs=50, batch_size=8,\n",
        "              callbacks=[model_checkpoint, early_stopping])\n",
        "\n",
        "    model.save('unet_brain_mri_final.keras')\n",
        "\n",
        "    visualize_predictions(model, X_val, y_val)\n",
        "\n",
        "if __name__ == '__main__':\n",
        "    main()\n"
      ],
      "metadata": {
        "id": "eGxw-xXDd-oy"
      },
      "execution_count": null,
      "outputs": []
    },
    {
      "cell_type": "code",
      "source": [
        "\n",
        "from sklearn.metrics import jaccard_score\n",
        "\n",
        "def evaluate_model(model, X_val, y_val):\n",
        "    preds = model.predict(X_val)\n",
        "    preds = (preds > 0.5).astype(np.uint8)\n",
        "\n",
        "\n",
        "    iou_scores = []\n",
        "    for i in range(len(preds)):\n",
        "        iou = jaccard_score(y_val[i].flatten(), preds[i].flatten())\n",
        "        iou_scores.append(iou)\n",
        "\n",
        "    mean_iou = np.mean(iou_scores)\n",
        "    print(f'Mean IoU: {mean_iou:.4f}')\n",
        "\n",
        "\n",
        "evaluate_model(model, X_val, y_val)\n"
      ],
      "metadata": {
        "id": "fL9CLGByeXEz"
      },
      "execution_count": null,
      "outputs": []
    },
    {
      "cell_type": "code",
      "source": [
        "\n",
        "visualize_predictions(model, X_val, y_val)\n"
      ],
      "metadata": {
        "id": "cDIphShBe7zV"
      },
      "execution_count": null,
      "outputs": []
    },
    {
      "cell_type": "code",
      "source": [
        "from fastapi import FastAPI, UploadFile, File\n",
        "from fastapi.responses import JSONResponse\n",
        "from pydantic import BaseModel\n",
        "import numpy as np\n",
        "from tensorflow.keras.models import load_model\n",
        "from PIL import Image\n",
        "\n",
        "app = FastAPI()\n",
        "\n",
        "model = load_model('unet_brain_mri_best.keras')\n",
        "\n",
        "class PredictionResponse(BaseModel):\n",
        "    mask: np.ndarray\n",
        "\n",
        "@app.post(\"/predict\", response_model=PredictionResponse)\n",
        "async def predict(file: UploadFile = File(...)):\n",
        "\n",
        "    image = Image.open(file.file).convert(\"RGB\")\n",
        "    image = image.resize((256, 256))\n",
        "    image_array = np.array(image) / 255.0\n",
        "    image_array = np.expand_dims(image_array, axis=0)\n",
        "\n",
        "\n",
        "    pred_mask = model.predict(image_array)\n",
        "    pred_mask = (pred_mask[0] > 0.5).astype(np.uint8)\n",
        "\n",
        "    return JSONResponse(content={\"mask\": pred_mask.tolist()})\n",
        "\n",
        "if __name__ == \"__main__\":\n",
        "    import uvicorn\n",
        "    uvicorn.run(app, host=\"0.0.0.0\", port=8000)\n",
        "\n"
      ],
      "metadata": {
        "id": "BAkHX4l_f3G4"
      },
      "execution_count": null,
      "outputs": []
    },
    {
      "cell_type": "code",
      "source": [
        "import streamlit as st\n",
        "import requests\n",
        "import numpy as np\n",
        "from PIL import Image\n",
        "import json\n",
        "\n",
        "st.title(\"Brain MRI Metastasis Segmentation\")\n",
        "\n",
        "uploaded_file = st.file_uploader(\"Upload Brain MRI Image\", type=[\"jpg\", \"jpeg\", \"png\"])\n",
        "\n",
        "if uploaded_file is not None:\n",
        "\n",
        "    image = Image.open(uploaded_file)\n",
        "    st.image(image, caption=\"Uploaded Image\", use_column_width=True)\n",
        "\n",
        "\n",
        "    if st.button(\"Predict\"):\n",
        "        files = {'file': uploaded_file.getvalue()}\n",
        "        response = requests.post(\"http://localhost:8000/predict\", files=files)\n",
        "\n",
        "        if response.status_code == 200:\n",
        "            mask = np.array(json.loads(response.content)[\"mask\"])\n",
        "            st.image(mask, caption=\"Segmentation Mask\", use_column_width=True)\n",
        "        else:\n",
        "            st.error(\"Error in prediction.\")\n",
        "\n"
      ],
      "metadata": {
        "id": "TGdtGwJyfelb"
      },
      "execution_count": null,
      "outputs": []
    },
    {
      "cell_type": "code",
      "source": [],
      "metadata": {
        "id": "pT3joWEplK0T"
      },
      "execution_count": null,
      "outputs": []
    },
    {
      "cell_type": "code",
      "source": [
        "\n"
      ],
      "metadata": {
        "id": "SKgFUElPf_EB"
      },
      "execution_count": 1,
      "outputs": []
    },
    {
      "cell_type": "code",
      "source": [
        "\n"
      ],
      "metadata": {
        "id": "few7hcD4gCwK"
      },
      "execution_count": 1,
      "outputs": []
    },
    {
      "cell_type": "code",
      "source": [
        "\n"
      ],
      "metadata": {
        "id": "4VUjUApygazw"
      },
      "execution_count": 1,
      "outputs": []
    },
    {
      "cell_type": "code",
      "source": [],
      "metadata": {
        "id": "ikeAnUX2imcB"
      },
      "execution_count": null,
      "outputs": []
    },
    {
      "cell_type": "code",
      "source": [],
      "metadata": {
        "id": "f47DjZ78ipRd"
      },
      "execution_count": null,
      "outputs": []
    },
    {
      "cell_type": "code",
      "source": [],
      "metadata": {
        "id": "TtYJmFCbgxGq"
      },
      "execution_count": null,
      "outputs": []
    },
    {
      "cell_type": "code",
      "source": [],
      "metadata": {
        "id": "DHosyRE-hOSW"
      },
      "execution_count": 1,
      "outputs": []
    },
    {
      "cell_type": "code",
      "source": [],
      "metadata": {
        "id": "pKN1nj3Ghv8j"
      },
      "execution_count": null,
      "outputs": []
    },
    {
      "cell_type": "code",
      "source": [],
      "metadata": {
        "id": "N1ZrYuz5hdgj"
      },
      "execution_count": 1,
      "outputs": []
    },
    {
      "cell_type": "code",
      "source": [],
      "metadata": {
        "id": "bAJ3-pmDhxqt"
      },
      "execution_count": 1,
      "outputs": []
    },
    {
      "cell_type": "code",
      "source": [],
      "metadata": {
        "id": "_ecWH5oXh2vn"
      },
      "execution_count": 1,
      "outputs": []
    },
    {
      "cell_type": "code",
      "source": [],
      "metadata": {
        "id": "hy29B2K5h73h"
      },
      "execution_count": 1,
      "outputs": []
    },
    {
      "cell_type": "code",
      "source": [
        "\n"
      ],
      "metadata": {
        "id": "htrxE_EfiCm7"
      },
      "execution_count": 1,
      "outputs": []
    },
    {
      "cell_type": "code",
      "source": [],
      "metadata": {
        "id": "bmpQj0p9irWV"
      },
      "execution_count": 1,
      "outputs": []
    },
    {
      "cell_type": "code",
      "source": [
        "\n"
      ],
      "metadata": {
        "id": "lxZUr7-6jX2X"
      },
      "execution_count": null,
      "outputs": []
    },
    {
      "cell_type": "code",
      "source": [
        "\n"
      ],
      "metadata": {
        "id": "H9R0x-d4kw3i"
      },
      "execution_count": null,
      "outputs": []
    },
    {
      "cell_type": "code",
      "source": [
        "\n"
      ],
      "metadata": {
        "id": "UrMmzbIXi472"
      },
      "execution_count": null,
      "outputs": []
    },
    {
      "cell_type": "code",
      "source": [
        "\n"
      ],
      "metadata": {
        "id": "qorv8Ql6m0r2"
      },
      "execution_count": 1,
      "outputs": []
    },
    {
      "cell_type": "code",
      "source": [
        "\n"
      ],
      "metadata": {
        "id": "JPzzysi7m3WJ"
      },
      "execution_count": 1,
      "outputs": []
    },
    {
      "cell_type": "code",
      "source": [
        "\n"
      ],
      "metadata": {
        "id": "fdb81Cj6m8zG"
      },
      "execution_count": null,
      "outputs": []
    },
    {
      "cell_type": "code",
      "source": [
        "\n"
      ],
      "metadata": {
        "id": "aznX39O3nWxa"
      },
      "execution_count": null,
      "outputs": []
    },
    {
      "cell_type": "code",
      "source": [],
      "metadata": {
        "id": "56Xs6zS8m_6O"
      },
      "execution_count": 1,
      "outputs": []
    }
  ]
}